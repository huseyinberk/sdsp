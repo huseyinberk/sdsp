{
 "cells": [
  {
   "cell_type": "markdown",
   "id": "98f646dc",
   "metadata": {},
   "source": [
    "# BBM467 - Data Intensive Applications\n",
    "## Data Science Project - SDSP\n",
    "\n",
    "#### Student no : 21627873\n",
    "#### Student name : Hüseyin Berk Yılmaz\n",
    "\n",
    "#### Student no : 21591132\n",
    "#### Student name : Nezir Turhallı"
   ]
  },
  {
   "cell_type": "markdown",
   "id": "852e42cd",
   "metadata": {},
   "source": [
    "## Table of Content\n",
    "\n",
    "[Purpose](#purpose)   \n",
    "[Data Understanding](#data_understanding)   \n",
    "[Data Preparation](#data_preparation)   \n",
    "[Features Selection](#feat)   \n",
    "[Modeling for Classification](#classificationmodel)  \n",
    "[Evaluation](#evaluation)  \n",
    "[References](#references)   \n"
   ]
  },
  {
   "cell_type": "markdown",
   "id": "d31dbb14",
   "metadata": {},
   "source": [
    "## Purpose <a class=\"anchor\" id=\"purpose\"></a>"
   ]
  },
  {
   "cell_type": "markdown",
   "id": "e066bd65",
   "metadata": {},
   "source": [
    "There are diseases that are difficult to diagnose. It makes a disease with different symptoms better for doctors. Different tests can be applied to predict the patient's disease. These tests create time and cost.\n",
    "\n",
    "In this project, we are expected to create a machine learning model for predicting diseases. It is expected that a web application will be designed to facilitate this model."
   ]
  },
  {
   "cell_type": "markdown",
   "id": "7a5d050a",
   "metadata": {},
   "source": [
    "## Data Understanding<a class=\"anchor\" id=\"data_understanding\"></a>"
   ]
  },
  {
   "cell_type": "markdown",
   "id": "07a1f73f",
   "metadata": {},
   "source": [
    "### Import Libraries"
   ]
  },
  {
   "cell_type": "code",
   "execution_count": 1,
   "id": "84a773bd",
   "metadata": {},
   "outputs": [],
   "source": [
    "import pandas as pd\n",
    "import numpy as np\n",
    "from sklearn.model_selection import train_test_split\n",
    "from sklearn.ensemble import RandomForestClassifier\n",
    "from sklearn.metrics import accuracy_score \n",
    "from sklearn.metrics import confusion_matrix as cm\n"
   ]
  },
  {
   "cell_type": "code",
   "execution_count": 2,
   "id": "0c4d2ef6",
   "metadata": {
    "scrolled": true
   },
   "outputs": [
    {
     "data": {
      "text/html": [
       "<div>\n",
       "<style scoped>\n",
       "    .dataframe tbody tr th:only-of-type {\n",
       "        vertical-align: middle;\n",
       "    }\n",
       "\n",
       "    .dataframe tbody tr th {\n",
       "        vertical-align: top;\n",
       "    }\n",
       "\n",
       "    .dataframe thead th {\n",
       "        text-align: right;\n",
       "    }\n",
       "</style>\n",
       "<table border=\"1\" class=\"dataframe\">\n",
       "  <thead>\n",
       "    <tr style=\"text-align: right;\">\n",
       "      <th></th>\n",
       "      <th>Disease</th>\n",
       "      <th>Feature_1</th>\n",
       "      <th>Feature_2</th>\n",
       "      <th>Feature_3</th>\n",
       "      <th>Feature_4</th>\n",
       "      <th>Feature_5</th>\n",
       "      <th>Feature_6</th>\n",
       "      <th>Feature_7</th>\n",
       "      <th>Feature_8</th>\n",
       "      <th>Feature_9</th>\n",
       "      <th>...</th>\n",
       "      <th>Feature_41</th>\n",
       "      <th>Feature_42</th>\n",
       "      <th>Feature_43</th>\n",
       "      <th>Feature_44</th>\n",
       "      <th>Feature_45</th>\n",
       "      <th>Feature_46</th>\n",
       "      <th>Feature_47</th>\n",
       "      <th>Feature_48</th>\n",
       "      <th>Feature_49</th>\n",
       "      <th>Feature_50</th>\n",
       "    </tr>\n",
       "  </thead>\n",
       "  <tbody>\n",
       "    <tr>\n",
       "      <th>0</th>\n",
       "      <td>Disease_1</td>\n",
       "      <td>Male</td>\n",
       "      <td>28.0</td>\n",
       "      <td>130</td>\n",
       "      <td>96.0</td>\n",
       "      <td>2.0</td>\n",
       "      <td>No</td>\n",
       "      <td>Yes</td>\n",
       "      <td>Yes</td>\n",
       "      <td>No</td>\n",
       "      <td>...</td>\n",
       "      <td>No</td>\n",
       "      <td>No</td>\n",
       "      <td>No</td>\n",
       "      <td>0</td>\n",
       "      <td>No</td>\n",
       "      <td>No</td>\n",
       "      <td>No</td>\n",
       "      <td>No</td>\n",
       "      <td>No</td>\n",
       "      <td>No</td>\n",
       "    </tr>\n",
       "    <tr>\n",
       "      <th>1</th>\n",
       "      <td>Disease_1</td>\n",
       "      <td>Male</td>\n",
       "      <td>18.0</td>\n",
       "      <td>95</td>\n",
       "      <td>46.0</td>\n",
       "      <td>3.0</td>\n",
       "      <td>Yes</td>\n",
       "      <td>No</td>\n",
       "      <td>No</td>\n",
       "      <td>No</td>\n",
       "      <td>...</td>\n",
       "      <td>No</td>\n",
       "      <td>Yes</td>\n",
       "      <td>No</td>\n",
       "      <td>0</td>\n",
       "      <td>No</td>\n",
       "      <td>No</td>\n",
       "      <td>No</td>\n",
       "      <td>No</td>\n",
       "      <td>No</td>\n",
       "      <td>No</td>\n",
       "    </tr>\n",
       "    <tr>\n",
       "      <th>2</th>\n",
       "      <td>Disease_1</td>\n",
       "      <td>Male</td>\n",
       "      <td>44.0</td>\n",
       "      <td>152</td>\n",
       "      <td>150.0</td>\n",
       "      <td>1.0</td>\n",
       "      <td>No</td>\n",
       "      <td>Yes</td>\n",
       "      <td>No</td>\n",
       "      <td>Yes</td>\n",
       "      <td>...</td>\n",
       "      <td>Yes</td>\n",
       "      <td>No</td>\n",
       "      <td>No</td>\n",
       "      <td>0</td>\n",
       "      <td>No</td>\n",
       "      <td>No</td>\n",
       "      <td>No</td>\n",
       "      <td>No</td>\n",
       "      <td>No</td>\n",
       "      <td>No</td>\n",
       "    </tr>\n",
       "    <tr>\n",
       "      <th>3</th>\n",
       "      <td>Disease_1</td>\n",
       "      <td>Male</td>\n",
       "      <td>19.0</td>\n",
       "      <td>112</td>\n",
       "      <td>66.0</td>\n",
       "      <td>18.0</td>\n",
       "      <td>No</td>\n",
       "      <td>No</td>\n",
       "      <td>No</td>\n",
       "      <td>Yes</td>\n",
       "      <td>...</td>\n",
       "      <td>No</td>\n",
       "      <td>Yes</td>\n",
       "      <td>No</td>\n",
       "      <td>0</td>\n",
       "      <td>No</td>\n",
       "      <td>No</td>\n",
       "      <td>No</td>\n",
       "      <td>No</td>\n",
       "      <td>No</td>\n",
       "      <td>No</td>\n",
       "    </tr>\n",
       "    <tr>\n",
       "      <th>4</th>\n",
       "      <td>Disease_1</td>\n",
       "      <td>Male</td>\n",
       "      <td>17.5</td>\n",
       "      <td>105.5</td>\n",
       "      <td>54.0</td>\n",
       "      <td>3.0</td>\n",
       "      <td>No</td>\n",
       "      <td>No</td>\n",
       "      <td>Yes</td>\n",
       "      <td>Yes</td>\n",
       "      <td>...</td>\n",
       "      <td>No</td>\n",
       "      <td>No</td>\n",
       "      <td>No</td>\n",
       "      <td>0</td>\n",
       "      <td>No</td>\n",
       "      <td>No</td>\n",
       "      <td>No</td>\n",
       "      <td>No</td>\n",
       "      <td>Yes</td>\n",
       "      <td>No</td>\n",
       "    </tr>\n",
       "  </tbody>\n",
       "</table>\n",
       "<p>5 rows × 51 columns</p>\n",
       "</div>"
      ],
      "text/plain": [
       "     Disease Feature_1  Feature_2 Feature_3  Feature_4  Feature_5 Feature_6  \\\n",
       "0  Disease_1      Male       28.0       130       96.0        2.0        No   \n",
       "1  Disease_1      Male       18.0        95       46.0        3.0       Yes   \n",
       "2  Disease_1      Male       44.0       152      150.0        1.0        No   \n",
       "3  Disease_1      Male       19.0       112       66.0       18.0        No   \n",
       "4  Disease_1      Male       17.5     105.5       54.0        3.0        No   \n",
       "\n",
       "  Feature_7 Feature_8 Feature_9  ... Feature_41 Feature_42 Feature_43  \\\n",
       "0       Yes       Yes        No  ...         No         No         No   \n",
       "1        No        No        No  ...         No        Yes         No   \n",
       "2       Yes        No       Yes  ...        Yes         No         No   \n",
       "3        No        No       Yes  ...         No        Yes         No   \n",
       "4        No       Yes       Yes  ...         No         No         No   \n",
       "\n",
       "  Feature_44 Feature_45 Feature_46 Feature_47 Feature_48 Feature_49 Feature_50  \n",
       "0          0         No         No         No         No         No         No  \n",
       "1          0         No         No         No         No         No         No  \n",
       "2          0         No         No         No         No         No         No  \n",
       "3          0         No         No         No         No         No         No  \n",
       "4          0         No         No         No         No        Yes         No  \n",
       "\n",
       "[5 rows x 51 columns]"
      ]
     },
     "execution_count": 2,
     "metadata": {},
     "output_type": "execute_result"
    }
   ],
   "source": [
    "df = pd.read_excel(\"sdsp_patients.xlsx\")\n",
    "df.head()"
   ]
  },
  {
   "cell_type": "markdown",
   "id": "e909fd93",
   "metadata": {},
   "source": [
    "In data,\n",
    "* There are missing values.\n",
    "* There are numerical and categorical columns."
   ]
  },
  {
   "cell_type": "code",
   "execution_count": 3,
   "id": "afc1574b",
   "metadata": {},
   "outputs": [
    {
     "name": "stdout",
     "output_type": "stream",
     "text": [
      "<class 'pandas.core.frame.DataFrame'>\n",
      "RangeIndex: 400 entries, 0 to 399\n",
      "Data columns (total 51 columns):\n",
      " #   Column      Non-Null Count  Dtype  \n",
      "---  ------      --------------  -----  \n",
      " 0   Disease     400 non-null    object \n",
      " 1   Feature_1   400 non-null    object \n",
      " 2   Feature_2   400 non-null    float64\n",
      " 3   Feature_3   400 non-null    object \n",
      " 4   Feature_4   400 non-null    float64\n",
      " 5   Feature_5   400 non-null    float64\n",
      " 6   Feature_6   400 non-null    object \n",
      " 7   Feature_7   400 non-null    object \n",
      " 8   Feature_8   400 non-null    object \n",
      " 9   Feature_9   400 non-null    object \n",
      " 10  Feature_10  400 non-null    object \n",
      " 11  Feature_11  400 non-null    object \n",
      " 12  Feature_12  400 non-null    object \n",
      " 13  Feature_13  400 non-null    object \n",
      " 14  Feature_14  400 non-null    object \n",
      " 15  Feature_15  400 non-null    object \n",
      " 16  Feature_16  400 non-null    object \n",
      " 17  Feature_17  400 non-null    object \n",
      " 18  Feature_18  400 non-null    object \n",
      " 19  Feature_19  400 non-null    object \n",
      " 20  Feature_20  400 non-null    object \n",
      " 21  Feature_21  400 non-null    object \n",
      " 22  Feature_22  400 non-null    object \n",
      " 23  Feature_23  400 non-null    object \n",
      " 24  Feature_24  400 non-null    object \n",
      " 25  Feature_25  400 non-null    object \n",
      " 26  Feature_26  400 non-null    object \n",
      " 27  Feature_27  400 non-null    object \n",
      " 28  Feature_28  399 non-null    object \n",
      " 29  Feature_29  400 non-null    object \n",
      " 30  Feature_30  400 non-null    object \n",
      " 31  Feature_31  400 non-null    object \n",
      " 32  Feature_32  384 non-null    object \n",
      " 33  Feature_33  388 non-null    object \n",
      " 34  Feature_34  400 non-null    object \n",
      " 35  Feature_35  357 non-null    object \n",
      " 36  Feature_36  141 non-null    object \n",
      " 37  Feature_37  400 non-null    object \n",
      " 38  Feature_38  400 non-null    object \n",
      " 39  Feature_39  400 non-null    object \n",
      " 40  Feature_40  400 non-null    object \n",
      " 41  Feature_41  400 non-null    object \n",
      " 42  Feature_42  400 non-null    object \n",
      " 43  Feature_43  400 non-null    object \n",
      " 44  Feature_44  400 non-null    int64  \n",
      " 45  Feature_45  400 non-null    object \n",
      " 46  Feature_46  400 non-null    object \n",
      " 47  Feature_47  400 non-null    object \n",
      " 48  Feature_48  400 non-null    object \n",
      " 49  Feature_49  400 non-null    object \n",
      " 50  Feature_50  400 non-null    object \n",
      "dtypes: float64(3), int64(1), object(47)\n",
      "memory usage: 159.5+ KB\n"
     ]
    }
   ],
   "source": [
    "df.info()"
   ]
  },
  {
   "cell_type": "markdown",
   "id": "ddb66828",
   "metadata": {},
   "source": [
    "## Data Preparation<a class=\"anchor\" id=\"data_preparation\"></a>"
   ]
  },
  {
   "cell_type": "markdown",
   "id": "9ddca48e",
   "metadata": {},
   "source": [
    "Firstly, I went through all the columns to solve the missing values in the data. I replaced the '' or nan values in the columns with the mode value of the column."
   ]
  },
  {
   "cell_type": "code",
   "execution_count": 4,
   "id": "6dc589eb",
   "metadata": {},
   "outputs": [],
   "source": [
    "x,y = df.shape\n",
    "for i in df.columns:\n",
    "    a = df[i].mode()\n",
    "    df[i] = df[i].replace(to_replace = [' '],value = [a])\n",
    "    df[i] = df[i].replace(to_replace = [np.nan],value = [a])"
   ]
  },
  {
   "cell_type": "markdown",
   "id": "52e073c7",
   "metadata": {},
   "source": [
    "I used a label encoder to make the non-numerical values in the data numerical."
   ]
  },
  {
   "cell_type": "code",
   "execution_count": 5,
   "id": "19e904be",
   "metadata": {
    "scrolled": false
   },
   "outputs": [
    {
     "data": {
      "text/html": [
       "<div>\n",
       "<style scoped>\n",
       "    .dataframe tbody tr th:only-of-type {\n",
       "        vertical-align: middle;\n",
       "    }\n",
       "\n",
       "    .dataframe tbody tr th {\n",
       "        vertical-align: top;\n",
       "    }\n",
       "\n",
       "    .dataframe thead th {\n",
       "        text-align: right;\n",
       "    }\n",
       "</style>\n",
       "<table border=\"1\" class=\"dataframe\">\n",
       "  <thead>\n",
       "    <tr style=\"text-align: right;\">\n",
       "      <th></th>\n",
       "      <th>Disease</th>\n",
       "      <th>Feature_1</th>\n",
       "      <th>Feature_2</th>\n",
       "      <th>Feature_3</th>\n",
       "      <th>Feature_4</th>\n",
       "      <th>Feature_5</th>\n",
       "      <th>Feature_6</th>\n",
       "      <th>Feature_7</th>\n",
       "      <th>Feature_8</th>\n",
       "      <th>Feature_9</th>\n",
       "      <th>...</th>\n",
       "      <th>Feature_41</th>\n",
       "      <th>Feature_42</th>\n",
       "      <th>Feature_43</th>\n",
       "      <th>Feature_44</th>\n",
       "      <th>Feature_45</th>\n",
       "      <th>Feature_46</th>\n",
       "      <th>Feature_47</th>\n",
       "      <th>Feature_48</th>\n",
       "      <th>Feature_49</th>\n",
       "      <th>Feature_50</th>\n",
       "    </tr>\n",
       "  </thead>\n",
       "  <tbody>\n",
       "    <tr>\n",
       "      <th>0</th>\n",
       "      <td>0</td>\n",
       "      <td>1</td>\n",
       "      <td>29</td>\n",
       "      <td>49</td>\n",
       "      <td>33</td>\n",
       "      <td>11</td>\n",
       "      <td>0</td>\n",
       "      <td>1</td>\n",
       "      <td>1</td>\n",
       "      <td>0</td>\n",
       "      <td>...</td>\n",
       "      <td>0</td>\n",
       "      <td>0</td>\n",
       "      <td>0</td>\n",
       "      <td>0</td>\n",
       "      <td>0</td>\n",
       "      <td>0</td>\n",
       "      <td>0</td>\n",
       "      <td>0</td>\n",
       "      <td>0</td>\n",
       "      <td>0</td>\n",
       "    </tr>\n",
       "    <tr>\n",
       "      <th>1</th>\n",
       "      <td>0</td>\n",
       "      <td>1</td>\n",
       "      <td>12</td>\n",
       "      <td>10</td>\n",
       "      <td>9</td>\n",
       "      <td>12</td>\n",
       "      <td>1</td>\n",
       "      <td>0</td>\n",
       "      <td>0</td>\n",
       "      <td>0</td>\n",
       "      <td>...</td>\n",
       "      <td>0</td>\n",
       "      <td>1</td>\n",
       "      <td>0</td>\n",
       "      <td>0</td>\n",
       "      <td>0</td>\n",
       "      <td>0</td>\n",
       "      <td>0</td>\n",
       "      <td>0</td>\n",
       "      <td>0</td>\n",
       "      <td>0</td>\n",
       "    </tr>\n",
       "    <tr>\n",
       "      <th>2</th>\n",
       "      <td>0</td>\n",
       "      <td>1</td>\n",
       "      <td>50</td>\n",
       "      <td>73</td>\n",
       "      <td>55</td>\n",
       "      <td>9</td>\n",
       "      <td>0</td>\n",
       "      <td>1</td>\n",
       "      <td>0</td>\n",
       "      <td>1</td>\n",
       "      <td>...</td>\n",
       "      <td>1</td>\n",
       "      <td>0</td>\n",
       "      <td>0</td>\n",
       "      <td>0</td>\n",
       "      <td>0</td>\n",
       "      <td>0</td>\n",
       "      <td>0</td>\n",
       "      <td>0</td>\n",
       "      <td>0</td>\n",
       "      <td>0</td>\n",
       "    </tr>\n",
       "    <tr>\n",
       "      <th>3</th>\n",
       "      <td>0</td>\n",
       "      <td>1</td>\n",
       "      <td>14</td>\n",
       "      <td>26</td>\n",
       "      <td>20</td>\n",
       "      <td>20</td>\n",
       "      <td>0</td>\n",
       "      <td>0</td>\n",
       "      <td>0</td>\n",
       "      <td>1</td>\n",
       "      <td>...</td>\n",
       "      <td>0</td>\n",
       "      <td>1</td>\n",
       "      <td>0</td>\n",
       "      <td>0</td>\n",
       "      <td>0</td>\n",
       "      <td>0</td>\n",
       "      <td>0</td>\n",
       "      <td>0</td>\n",
       "      <td>0</td>\n",
       "      <td>0</td>\n",
       "    </tr>\n",
       "    <tr>\n",
       "      <th>4</th>\n",
       "      <td>0</td>\n",
       "      <td>1</td>\n",
       "      <td>11</td>\n",
       "      <td>19</td>\n",
       "      <td>14</td>\n",
       "      <td>12</td>\n",
       "      <td>0</td>\n",
       "      <td>0</td>\n",
       "      <td>1</td>\n",
       "      <td>1</td>\n",
       "      <td>...</td>\n",
       "      <td>0</td>\n",
       "      <td>0</td>\n",
       "      <td>0</td>\n",
       "      <td>0</td>\n",
       "      <td>0</td>\n",
       "      <td>0</td>\n",
       "      <td>0</td>\n",
       "      <td>0</td>\n",
       "      <td>1</td>\n",
       "      <td>0</td>\n",
       "    </tr>\n",
       "    <tr>\n",
       "      <th>...</th>\n",
       "      <td>...</td>\n",
       "      <td>...</td>\n",
       "      <td>...</td>\n",
       "      <td>...</td>\n",
       "      <td>...</td>\n",
       "      <td>...</td>\n",
       "      <td>...</td>\n",
       "      <td>...</td>\n",
       "      <td>...</td>\n",
       "      <td>...</td>\n",
       "      <td>...</td>\n",
       "      <td>...</td>\n",
       "      <td>...</td>\n",
       "      <td>...</td>\n",
       "      <td>...</td>\n",
       "      <td>...</td>\n",
       "      <td>...</td>\n",
       "      <td>...</td>\n",
       "      <td>...</td>\n",
       "      <td>...</td>\n",
       "      <td>...</td>\n",
       "    </tr>\n",
       "    <tr>\n",
       "      <th>395</th>\n",
       "      <td>0</td>\n",
       "      <td>0</td>\n",
       "      <td>41</td>\n",
       "      <td>62</td>\n",
       "      <td>53</td>\n",
       "      <td>22</td>\n",
       "      <td>0</td>\n",
       "      <td>0</td>\n",
       "      <td>0</td>\n",
       "      <td>1</td>\n",
       "      <td>...</td>\n",
       "      <td>1</td>\n",
       "      <td>0</td>\n",
       "      <td>0</td>\n",
       "      <td>6</td>\n",
       "      <td>1</td>\n",
       "      <td>0</td>\n",
       "      <td>0</td>\n",
       "      <td>0</td>\n",
       "      <td>0</td>\n",
       "      <td>0</td>\n",
       "    </tr>\n",
       "    <tr>\n",
       "      <th>396</th>\n",
       "      <td>0</td>\n",
       "      <td>1</td>\n",
       "      <td>65</td>\n",
       "      <td>91</td>\n",
       "      <td>60</td>\n",
       "      <td>38</td>\n",
       "      <td>0</td>\n",
       "      <td>0</td>\n",
       "      <td>1</td>\n",
       "      <td>0</td>\n",
       "      <td>...</td>\n",
       "      <td>0</td>\n",
       "      <td>0</td>\n",
       "      <td>0</td>\n",
       "      <td>7</td>\n",
       "      <td>1</td>\n",
       "      <td>0</td>\n",
       "      <td>0</td>\n",
       "      <td>0</td>\n",
       "      <td>0</td>\n",
       "      <td>0</td>\n",
       "    </tr>\n",
       "    <tr>\n",
       "      <th>397</th>\n",
       "      <td>0</td>\n",
       "      <td>0</td>\n",
       "      <td>47</td>\n",
       "      <td>68</td>\n",
       "      <td>57</td>\n",
       "      <td>30</td>\n",
       "      <td>0</td>\n",
       "      <td>1</td>\n",
       "      <td>0</td>\n",
       "      <td>0</td>\n",
       "      <td>...</td>\n",
       "      <td>0</td>\n",
       "      <td>0</td>\n",
       "      <td>0</td>\n",
       "      <td>7</td>\n",
       "      <td>1</td>\n",
       "      <td>1</td>\n",
       "      <td>1</td>\n",
       "      <td>0</td>\n",
       "      <td>0</td>\n",
       "      <td>0</td>\n",
       "    </tr>\n",
       "    <tr>\n",
       "      <th>398</th>\n",
       "      <td>0</td>\n",
       "      <td>1</td>\n",
       "      <td>42</td>\n",
       "      <td>58</td>\n",
       "      <td>53</td>\n",
       "      <td>38</td>\n",
       "      <td>0</td>\n",
       "      <td>1</td>\n",
       "      <td>0</td>\n",
       "      <td>0</td>\n",
       "      <td>...</td>\n",
       "      <td>0</td>\n",
       "      <td>0</td>\n",
       "      <td>0</td>\n",
       "      <td>7</td>\n",
       "      <td>1</td>\n",
       "      <td>0</td>\n",
       "      <td>0</td>\n",
       "      <td>0</td>\n",
       "      <td>0</td>\n",
       "      <td>0</td>\n",
       "    </tr>\n",
       "    <tr>\n",
       "      <th>399</th>\n",
       "      <td>0</td>\n",
       "      <td>1</td>\n",
       "      <td>33</td>\n",
       "      <td>49</td>\n",
       "      <td>38</td>\n",
       "      <td>15</td>\n",
       "      <td>1</td>\n",
       "      <td>0</td>\n",
       "      <td>0</td>\n",
       "      <td>0</td>\n",
       "      <td>...</td>\n",
       "      <td>0</td>\n",
       "      <td>1</td>\n",
       "      <td>0</td>\n",
       "      <td>7</td>\n",
       "      <td>1</td>\n",
       "      <td>0</td>\n",
       "      <td>1</td>\n",
       "      <td>0</td>\n",
       "      <td>0</td>\n",
       "      <td>0</td>\n",
       "    </tr>\n",
       "  </tbody>\n",
       "</table>\n",
       "<p>400 rows × 51 columns</p>\n",
       "</div>"
      ],
      "text/plain": [
       "     Disease  Feature_1  Feature_2  Feature_3  Feature_4  Feature_5  \\\n",
       "0          0          1         29         49         33         11   \n",
       "1          0          1         12         10          9         12   \n",
       "2          0          1         50         73         55          9   \n",
       "3          0          1         14         26         20         20   \n",
       "4          0          1         11         19         14         12   \n",
       "..       ...        ...        ...        ...        ...        ...   \n",
       "395        0          0         41         62         53         22   \n",
       "396        0          1         65         91         60         38   \n",
       "397        0          0         47         68         57         30   \n",
       "398        0          1         42         58         53         38   \n",
       "399        0          1         33         49         38         15   \n",
       "\n",
       "     Feature_6  Feature_7  Feature_8  Feature_9  ...  Feature_41  Feature_42  \\\n",
       "0            0          1          1          0  ...           0           0   \n",
       "1            1          0          0          0  ...           0           1   \n",
       "2            0          1          0          1  ...           1           0   \n",
       "3            0          0          0          1  ...           0           1   \n",
       "4            0          0          1          1  ...           0           0   \n",
       "..         ...        ...        ...        ...  ...         ...         ...   \n",
       "395          0          0          0          1  ...           1           0   \n",
       "396          0          0          1          0  ...           0           0   \n",
       "397          0          1          0          0  ...           0           0   \n",
       "398          0          1          0          0  ...           0           0   \n",
       "399          1          0          0          0  ...           0           1   \n",
       "\n",
       "     Feature_43  Feature_44  Feature_45  Feature_46  Feature_47  Feature_48  \\\n",
       "0             0           0           0           0           0           0   \n",
       "1             0           0           0           0           0           0   \n",
       "2             0           0           0           0           0           0   \n",
       "3             0           0           0           0           0           0   \n",
       "4             0           0           0           0           0           0   \n",
       "..          ...         ...         ...         ...         ...         ...   \n",
       "395           0           6           1           0           0           0   \n",
       "396           0           7           1           0           0           0   \n",
       "397           0           7           1           1           1           0   \n",
       "398           0           7           1           0           0           0   \n",
       "399           0           7           1           0           1           0   \n",
       "\n",
       "     Feature_49  Feature_50  \n",
       "0             0           0  \n",
       "1             0           0  \n",
       "2             0           0  \n",
       "3             0           0  \n",
       "4             1           0  \n",
       "..          ...         ...  \n",
       "395           0           0  \n",
       "396           0           0  \n",
       "397           0           0  \n",
       "398           0           0  \n",
       "399           0           0  \n",
       "\n",
       "[400 rows x 51 columns]"
      ]
     },
     "execution_count": 5,
     "metadata": {},
     "output_type": "execute_result"
    }
   ],
   "source": [
    "from sklearn.preprocessing import LabelEncoder\n",
    "labelencoder = LabelEncoder()\n",
    "\n",
    "fit = df.apply(lambda x: labelencoder.fit_transform(df[x.name]))\n",
    "fit"
   ]
  },
  {
   "cell_type": "markdown",
   "id": "ee31b067",
   "metadata": {},
   "source": [
    "## Feature Selection<a class=\"anchor\" id=\"feat\"></a>"
   ]
  },
  {
   "cell_type": "markdown",
   "id": "273164d0",
   "metadata": {},
   "source": [
    "### Train Test Split\n",
    "Until now, there has been no change in our data over any known situation.**Any action taken can be valid for any data set. However, we have used the 'Diseases' column while creating a train and test set below.**"
   ]
  },
  {
   "cell_type": "code",
   "execution_count": 6,
   "id": "9ff9393a",
   "metadata": {},
   "outputs": [],
   "source": [
    "X = fit.drop(['Disease'], axis=1)\n",
    "y = fit['Disease']\n",
    "\n",
    "X_train, X_test, y_train, y_test = train_test_split(X,y, test_size=0.3, random_state=42)"
   ]
  },
  {
   "cell_type": "markdown",
   "id": "7345a387",
   "metadata": {},
   "source": [
    "We learned the importance of features by creating a model by using all features for feature selection. On top of that, we separated the important features using **SelectFromModel** and created a new train and test set."
   ]
  },
  {
   "cell_type": "code",
   "execution_count": 7,
   "id": "cb9b0006",
   "metadata": {},
   "outputs": [],
   "source": [
    "from sklearn.feature_selection import SelectFromModel\n",
    "\n",
    "rf = RandomForestClassifier(n_estimators=100, max_depth = 3, random_state=42)\n",
    "rf.fit(X_train, y_train)\n",
    "\n",
    "sfm  = SelectFromModel(rf, threshold=0.04)\n",
    "sfm.fit(X_train, y_train)\n",
    "sfm.get_support()\n",
    "\n",
    "selected_feat= X_train.columns[(sfm.get_support())]\n",
    "X_important_train = sfm.transform(X_train)\n",
    "X_important_test = sfm.transform(X_test)"
   ]
  },
  {
   "cell_type": "markdown",
   "id": "82a54dc7",
   "metadata": {},
   "source": [
    "### Selected features"
   ]
  },
  {
   "cell_type": "code",
   "execution_count": 8,
   "id": "23c8e18d",
   "metadata": {},
   "outputs": [
    {
     "data": {
      "text/plain": [
       "Index(['Feature_5', 'Feature_28', 'Feature_29', 'Feature_30', 'Feature_33',\n",
       "       'Feature_37', 'Feature_39', 'Feature_41', 'Feature_43'],\n",
       "      dtype='object')"
      ]
     },
     "execution_count": 8,
     "metadata": {},
     "output_type": "execute_result"
    }
   ],
   "source": [
    "selected_feat"
   ]
  },
  {
   "cell_type": "markdown",
   "id": "c4b5896f",
   "metadata": {},
   "source": [
    "## Modeling for Classification <a class=\"anchor\" id=\"classificationmodel\"></a>"
   ]
  },
  {
   "cell_type": "markdown",
   "id": "482a4701",
   "metadata": {},
   "source": [
    "I used the RandomForest classification algorithm. The algorithm produces results that are both fast and highly accurate. I created a new model using the train and test sets I created with important features and trained this model. "
   ]
  },
  {
   "cell_type": "code",
   "execution_count": 9,
   "id": "a566e5a2",
   "metadata": {},
   "outputs": [],
   "source": [
    "clf_important = RandomForestClassifier(n_estimators=100, random_state=0, n_jobs=-1)\n",
    "clf_important.fit(X_important_train, y_train)\n",
    "y_important_pred = clf_important.predict(X_important_test)"
   ]
  },
  {
   "cell_type": "markdown",
   "id": "69ae8868",
   "metadata": {},
   "source": [
    "## Evaluation<a class=\"anchor\" id=\"evaluation\"></a>"
   ]
  },
  {
   "cell_type": "markdown",
   "id": "fbb4856b",
   "metadata": {},
   "source": [
    "As you can see, the accuracy rate of our model is **97.5%**."
   ]
  },
  {
   "cell_type": "code",
   "execution_count": 10,
   "id": "5bcfd782",
   "metadata": {},
   "outputs": [
    {
     "data": {
      "text/plain": [
       "0.975"
      ]
     },
     "execution_count": 10,
     "metadata": {},
     "output_type": "execute_result"
    }
   ],
   "source": [
    "accuracy_score(y_test, y_important_pred)"
   ]
  },
  {
   "cell_type": "code",
   "execution_count": 11,
   "id": "c626354e",
   "metadata": {
    "scrolled": true
   },
   "outputs": [
    {
     "data": {
      "text/plain": [
       "0.975"
      ]
     },
     "execution_count": 11,
     "metadata": {},
     "output_type": "execute_result"
    }
   ],
   "source": [
    "clf_important.score(X_important_test, y_test)"
   ]
  },
  {
   "cell_type": "markdown",
   "id": "71603c33",
   "metadata": {},
   "source": [
    "## Create ML <a class=\"anchor\" id=\"evaluation\"></a>\n",
    "I used joblib to save my machine learning model. "
   ]
  },
  {
   "cell_type": "code",
   "execution_count": 12,
   "id": "1332a2dd",
   "metadata": {},
   "outputs": [
    {
     "data": {
      "text/plain": [
       "['disease.pkl']"
      ]
     },
     "execution_count": 12,
     "metadata": {},
     "output_type": "execute_result"
    }
   ],
   "source": [
    "import joblib\n",
    "\n",
    "joblib.dump(clf_important, 'model.pkl')\n",
    "\n",
    "joblib.dump(df[selected_feat], 'selected_df.pkl')\n",
    "\n",
    "joblib.dump(df[\"Disease\"], 'disease.pkl')"
   ]
  },
  {
   "cell_type": "markdown",
   "id": "bfb2203d",
   "metadata": {},
   "source": [
    "### Test the our model"
   ]
  },
  {
   "cell_type": "code",
   "execution_count": 13,
   "id": "501ad44d",
   "metadata": {},
   "outputs": [
    {
     "name": "stdout",
     "output_type": "stream",
     "text": [
      "[[0.63 0.09 0.28 0.  ]]\n"
     ]
    }
   ],
   "source": [
    "x = np.array([35,1,0,0,0,1,0,1,0]).reshape(1,-1)\n",
    "print(clf_important.predict_proba(x))"
   ]
  },
  {
   "cell_type": "markdown",
   "id": "f44f8743",
   "metadata": {},
   "source": [
    "**I installed the files where I can access them for the web application.**"
   ]
  },
  {
   "cell_type": "code",
   "execution_count": null,
   "id": "8d321a17",
   "metadata": {},
   "outputs": [],
   "source": [
    "joblib.dump(clf_important, '../back/api/static/model.pkl')\n",
    "\n",
    "joblib.dump(df[selected_feat], '../back/api/static/selected_df.pkl')\n",
    "\n",
    "joblib.dump(df[\"Disease\"], '../back/api/static/disease.pkl')"
   ]
  },
  {
   "cell_type": "markdown",
   "id": "666a8a9b",
   "metadata": {},
   "source": [
    "## References<a class=\"anchor\" id=\"references\"></a>"
   ]
  },
  {
   "cell_type": "markdown",
   "id": "2ef69830",
   "metadata": {},
   "source": [
    "* https://machinelearningmastery.com/save-load-machine-learning-models-python-scikit-learn/\n",
    "* https://scikit-learn.org/stable/modules/generated/sklearn.ensemble.RandomForestClassifier.html\n",
    "* https://scikit-learn.org/stable/modules/generated/sklearn.preprocessing.LabelEncoder.html\n",
    "* https://machinelearningmastery.com/make-predictions-scikit-learn/"
   ]
  },
  {
   "cell_type": "markdown",
   "id": "a6943dfa",
   "metadata": {},
   "source": [
    "\n",
    "**Disclaimer!** <font color='grey'>This notebook was prepared by Hüseyin Berk Yılmaz and Nezir Turhallı as an assigment for the *BBM467 - Data Intensive Applications * class. The notebook is available for educational purposes only. There is no guarantee on the correctness of the content provided as it is a student work.\n",
    "\n",
    "If you think there is any copyright violation, please let us [know](https://forms.gle/BNNRB2kR8ZHVEREq8). \n",
    "</font>"
   ]
  }
 ],
 "metadata": {
  "kernelspec": {
   "display_name": "Python 3",
   "language": "python",
   "name": "python3"
  },
  "language_info": {
   "codemirror_mode": {
    "name": "ipython",
    "version": 3
   },
   "file_extension": ".py",
   "mimetype": "text/x-python",
   "name": "python",
   "nbconvert_exporter": "python",
   "pygments_lexer": "ipython3",
   "version": "3.7.10"
  }
 },
 "nbformat": 4,
 "nbformat_minor": 5
}
